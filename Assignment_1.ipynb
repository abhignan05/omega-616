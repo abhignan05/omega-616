{
 "cells": [
  {
   "cell_type": "code",
   "execution_count": 1,
   "metadata": {},
   "outputs": [
    {
     "name": "stdout",
     "output_type": "stream",
     "text": [
      "positive\n"
     ]
    }
   ],
   "source": [
    "#1. Write a program to check if a number is positive or negative.\n",
    "a=int(input(\"enter a number\"))\n",
    "if a>=0:\n",
    "    print(\"positive\")\n",
    "else:\n",
    "    print(\"negative\")"
   ]
  },
  {
   "cell_type": "code",
   "execution_count": 3,
   "metadata": {},
   "outputs": [
    {
     "name": "stdout",
     "output_type": "stream",
     "text": [
      "odd number\n"
     ]
    }
   ],
   "source": [
    "#2. Write a program to check if a number is even or odd.\n",
    "a=int(input(\"enter a number\"))\n",
    "if a%2==0:\n",
    "    print(\"even number\")\n",
    "else:\n",
    "    print(\"odd number\")"
   ]
  },
  {
   "cell_type": "code",
   "execution_count": 6,
   "metadata": {},
   "outputs": [
    {
     "name": "stdout",
     "output_type": "stream",
     "text": [
      "positive\n"
     ]
    }
   ],
   "source": [
    "#3. Write a program to check if a number is zero, positive, or negative.\n",
    "a=int(input(\"enter a number\"))\n",
    "if a==0:\n",
    "    print(\"Zero\")\n",
    "elif a>=0:\n",
    "    print(\"positive\")\n",
    "else:\n",
    "    print(\"negative\")"
   ]
  },
  {
   "cell_type": "code",
   "execution_count": 8,
   "metadata": {},
   "outputs": [
    {
     "name": "stdout",
     "output_type": "stream",
     "text": [
      "false\n"
     ]
    }
   ],
   "source": [
    "#4. Write a program to check if a number is divisible by both 2 and 3.\n",
    "a=int(input(\"enter a number\"))\n",
    "if a%2==0 and a%3==0:\n",
    "    print(\"true\")\n",
    "else:\n",
    "    print(\"false\")"
   ]
  },
  {
   "cell_type": "code",
   "execution_count": 13,
   "metadata": {},
   "outputs": [
    {
     "name": "stdout",
     "output_type": "stream",
     "text": [
      "divisible by 2\n"
     ]
    }
   ],
   "source": [
    "#5. Write a program to check if a number is divisible by 2, 3, or neither.\n",
    "a=int(input(\"enter a number\"))\n",
    "if a%2==0:\n",
    "    print(\"divisible by 2\")\n",
    "elif a%3==0:\n",
    "    print(\"Divisible by 3\")\n",
    "else:\n",
    "    print(\"neither divisible by 2 or 3\")\n"
   ]
  },
  {
   "cell_type": "code",
   "execution_count": 17,
   "metadata": {},
   "outputs": [
    {
     "name": "stdout",
     "output_type": "stream",
     "text": [
      "equal to 100\n"
     ]
    }
   ],
   "source": [
    "#6.Write a program to check if a number is greater than, less than, or equal to 100.\n",
    "a=int(input(\"enter a number\"))\n",
    "if a>100:\n",
    "    print(\"greater than 100\")\n",
    "elif a==100:\n",
    "    print(\"equal to 100\")\n",
    "else :\n",
    "    print(\"less than 100\")"
   ]
  },
  {
   "cell_type": "code",
   "execution_count": 3,
   "metadata": {},
   "outputs": [
    {
     "name": "stdout",
     "output_type": "stream",
     "text": [
      "the number is between 1-50\n"
     ]
    }
   ],
   "source": [
    "#7. Write a program to check if a number is between 1 and 50, between 51 and 100, or above 100.\n",
    "a=int(input(\"enter a number\"))\n",
    "if a>=1 and a<=50:\n",
    "    print(\"the number is between 1-50\")\n",
    "elif a>=51 and a<=100:\n",
    "    print(\"the umber is between 51-100\")\n",
    "else:\n",
    "    print(\"the number is greater than 1000\")"
   ]
  },
  {
   "cell_type": "code",
   "execution_count": 5,
   "metadata": {},
   "outputs": [
    {
     "name": "stdout",
     "output_type": "stream",
     "text": [
      "these are the multiples of 10\n"
     ]
    }
   ],
   "source": [
    "#8. Write a program to check if a number is a multiple of 10 or not.\n",
    "a=int(input(\"enter a number\"))\n",
    "if a%10==0:\n",
    "    print(\"these are the multiples of 10\")\n",
    "else:\n",
    "    print(\"it is not multiples of 10\")"
   ]
  },
  {
   "cell_type": "code",
   "execution_count": 8,
   "metadata": {},
   "outputs": [
    {
     "name": "stdout",
     "output_type": "stream",
     "text": [
      "even\n"
     ]
    }
   ],
   "source": [
    "#9. Write a program to check if a number is odd, even, or zero.\n",
    "a=int(input(\"enter a number\"))\n",
    "if a==0:\n",
    "    print(\"zero\")\n",
    "elif a%2==0:\n",
    "    print(\"even\")\n",
    "else:\n",
    "    print(\"odd\")"
   ]
  },
  {
   "cell_type": "code",
   "execution_count": 10,
   "metadata": {},
   "outputs": [
    {
     "name": "stdout",
     "output_type": "stream",
     "text": [
      "large\n"
     ]
    }
   ],
   "source": [
    "#10. Write a program to classify a number as small (less than 10), medium (10-50), or large (greater than 50)\n",
    "a=int(input(\"enter a number\"))\n",
    "if a<10:\n",
    "    print(\"small\")\n",
    "elif a>=10 and a<=50:\n",
    "    print(\"medium\")\n",
    "else:\n",
    "    print(\"large\")\n",
    "    "
   ]
  },
  {
   "cell_type": "code",
   "execution_count": null,
   "metadata": {},
   "outputs": [],
   "source": []
  }
 ],
 "metadata": {
  "kernelspec": {
   "display_name": "Python 3",
   "language": "python",
   "name": "python3"
  },
  "language_info": {
   "codemirror_mode": {
    "name": "ipython",
    "version": 3
   },
   "file_extension": ".py",
   "mimetype": "text/x-python",
   "name": "python",
   "nbconvert_exporter": "python",
   "pygments_lexer": "ipython3",
   "version": "3.10.11"
  }
 },
 "nbformat": 4,
 "nbformat_minor": 2
}
